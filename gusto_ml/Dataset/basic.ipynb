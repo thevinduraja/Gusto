{
 "cells": [
  {
   "cell_type": "code",
   "execution_count": 3,
   "id": "7a10fd42",
   "metadata": {},
   "outputs": [],
   "source": [
    "import pandas as pd\n",
    "from sklearn.feature_extraction.text import CountVectorizer\n",
    "from sklearn.metrics.pairwise import cosine_similarity\n",
    "\n",
    "# Loading the Gusto cleaned dataset\n",
    "recipes_df = pd.read_csv(\"Gusto Dataset - Cleaned.csv\")"
   ]
  },
  {
   "cell_type": "code",
   "execution_count": 6,
   "id": "7ba7f3e6",
   "metadata": {},
   "outputs": [],
   "source": [
    "# create a bag of words representation of the recipe ingredients\n",
    "vectorizer = CountVectorizer(stop_words='english')\n",
    "ingredient_vectors = vectorizer.fit_transform(recipes_df['Cleaned_Ingredients'])"
   ]
  },
  {
   "cell_type": "code",
   "execution_count": 20,
   "id": "f5412252",
   "metadata": {},
   "outputs": [
    {
     "name": "stdout",
     "output_type": "stream",
     "text": [
      "Lentil and Chicken Soup with Sweet Potatoes and Escarole (similarity: 0.55)\n",
      "Southern-Style Fried Chicken (similarity: 0.53)\n",
      "Fully Salted Roast Chicken (similarity: 0.50)\n",
      "\"Nextover\" Chicken Tacos with Quick Refried Beans (similarity: 0.43)\n",
      "Green Posole with Chicken (similarity: 0.42)\n",
      "Braised Chicken Marsala (similarity: 0.42)\n",
      "Po-Tacos (similarity: 0.41)\n",
      "Chicken Soup (similarity: 0.38)\n",
      "Spicy Feel-Good Chicken Soup (similarity: 0.38)\n",
      "Garlic Chicken (similarity: 0.38)\n",
      "Skillet Chicken and Rice Two Ways: Plain and Dirty (similarity: 0.38)\n",
      "Cast-Iron Roast Chicken (similarity: 0.38)\n",
      "Chicken Soup with Charred Cabbage (similarity: 0.38)\n",
      "Chicken Paprikash with Sour Cream (similarity: 0.37)\n",
      "Chicken Stew with Potatoes and Radishes (similarity: 0.37)\n",
      "Cane Vinegar Chicken with Pearl Onions, Orange & Spinach (similarity: 0.37)\n",
      "Garlic and Herb Spatchcock Grilled Chicken (similarity: 0.37)\n",
      "Chicken Breasts Provençal (similarity: 0.36)\n",
      "Easy Green Curry with Chicken, Bell Pepper, and Sugar Snap Peas (similarity: 0.36)\n",
      "Mom's White Chicken Chili (similarity: 0.36)\n",
      "Dr. Lee's Red Wine Chicken Stew (similarity: 0.35)\n",
      "Parsnip Purée (similarity: 0.35)\n",
      "Roast Chicken Legs with Lemon and Thyme (similarity: 0.35)\n",
      "Carrots with Shallots, Sage, and Thyme (similarity: 0.35)\n",
      "Chicks in Blankets (similarity: 0.34)\n",
      "Matzo Ball Soup (similarity: 0.34)\n",
      "Veal Chops with Sherry Gastrique and Roasted Peperonata (similarity: 0.34)\n",
      "Ginger Scallion Egg-Drop Soup (similarity: 0.34)\n",
      "Instant Pot Chicken Stock (similarity: 0.34)\n",
      "Mini Chicken Pot Pies with Bacon and Marjoram (similarity: 0.34)\n",
      "Slow-Cooker Shredded Chicken (similarity: 0.33)\n",
      "Braised Rotisserie Chicken with Bacon, Tomatoes, and Kale (similarity: 0.33)\n",
      "Chicken and Andouille Sausage Ragù (similarity: 0.33)\n",
      "The Boy Scouts Campfire Quesadilla (similarity: 0.33)\n",
      "Chicken and Artichoke Fricassée with Morel Mushrooms (similarity: 0.33)\n",
      "Chilled and Dilled Avgolemono Soup (similarity: 0.32)\n",
      "Leftover-Roast-Chicken-Stock (similarity: 0.32)\n",
      "Brothy Heirloom Beans With Cream (similarity: 0.32)\n",
      "Chicken with Pork-Stuffed Cherry Peppers (similarity: 0.32)\n",
      "Farfalle with Chicken, Tomatoes, Caramelized Onions, and Goat Cheese (similarity: 0.32)\n",
      "Asparagus Velouté (similarity: 0.32)\n",
      "One-Pot Chicken and Chorizo (similarity: 0.31)\n",
      "Za'atar Roast Chicken with Green Tahini Sauce (similarity: 0.31)\n",
      "Vietnamese Chicken Soup With Rice (similarity: 0.31)\n",
      "Slow-Cooker Marrakech Chicken Stew With Preserved Lemon and Olives (similarity: 0.31)\n",
      "My Chicken Broth-Braised Baby Turnips (similarity: 0.31)\n",
      "Monte Cristo Chicken (similarity: 0.30)\n",
      "Endive with Chicken Liver Pâte and Dried-Cherry Marmalade (similarity: 0.30)\n",
      "Chicken and Ginger Soup (similarity: 0.30)\n",
      "Roasted Chicken with Dijon Sauce (similarity: 0.30)\n"
     ]
    }
   ],
   "source": [
    "# calculate the cosine similarity between the user input and all recipes\n",
    "def get_similar_recipes(user_input):\n",
    "    user_input_vector = vectorizer.transform([user_input])\n",
    "    similarities = cosine_similarity(user_input_vector, ingredient_vectors)\n",
    "    similar_indices = similarities.argsort()[0][::-1]\n",
    "    similar_recipes = [(recipes_df['Title'][i], similarities[0][i]) for i in similar_indices]\n",
    "    return similar_recipes\n",
    "\n",
    "# get the top 5 most similar recipes to the user input\n",
    "user_input = \"Chicken\"\n",
    "similar_recipes = get_similar_recipes(user_input)\n",
    "\n",
    "# print the top 5 most similar recipes\n",
    "for recipe, similarity in similar_recipes:\n",
    "    if similarity >= 0.3:\n",
    "        print(f\"{recipe} (similarity: {similarity:.2f})\")"
   ]
  }
 ],
 "metadata": {
  "kernelspec": {
   "display_name": "Python 3 (ipykernel)",
   "language": "python",
   "name": "python3"
  },
  "language_info": {
   "codemirror_mode": {
    "name": "ipython",
    "version": 3
   },
   "file_extension": ".py",
   "mimetype": "text/x-python",
   "name": "python",
   "nbconvert_exporter": "python",
   "pygments_lexer": "ipython3",
   "version": "3.10.6"
  }
 },
 "nbformat": 4,
 "nbformat_minor": 5
}
